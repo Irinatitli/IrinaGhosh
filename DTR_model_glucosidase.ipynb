{
  "nbformat": 4,
  "nbformat_minor": 0,
  "metadata": {
    "colab": {
      "provenance": []
    },
    "kernelspec": {
      "name": "python3",
      "display_name": "Python 3"
    },
    "language_info": {
      "name": "python"
    }
  },
  "cells": [
    {
      "cell_type": "code",
      "execution_count": null,
      "metadata": {
        "id": "CQPy5j5ByXBs"
      },
      "outputs": [],
      "source": [
        "import pandas as pd\n",
        "import numpy as np\n",
        "import matplotlib.pyplot as plt\n",
        "import sklearn\n",
        "import seaborn as sns\n",
        "import matplotlib.pyplot as plt\n",
        "plt.style.use(\"seaborn\")\n",
        "import warnings\n",
        "warnings.filterwarnings('ignore')"
      ]
    },
    {
      "cell_type": "code",
      "source": [
        "from sklearn.model_selection import train_test_split\n",
        "from sklearn.feature_selection import RFE\n",
        "from sklearn import svm\n",
        "from sklearn.svm import SVR\n",
        "from sklearn.tree import DecisionTreeRegressor\n",
        "from sklearn.feature_selection import SelectFromModel\n",
        "from sklearn.metrics import accuracy_score\n",
        "from sklearn.metrics import mean_absolute_error, mean_squared_error, explained_variance_score, r2_score\n",
        "from sklearn.preprocessing import StandardScaler\n",
        "from sklearn.pipeline import Pipeline"
      ],
      "metadata": {
        "id": "v3BM4tHVzAXp"
      },
      "execution_count": null,
      "outputs": []
    },
    {
      "cell_type": "code",
      "source": [
        "from google.colab import drive\n",
        "drive.mount('/content/drive')"
      ],
      "metadata": {
        "id": "GWtdKuGrzC34"
      },
      "execution_count": null,
      "outputs": []
    },
    {
      "cell_type": "code",
      "source": [
        "seed = 42"
      ],
      "metadata": {
        "id": "kXycwjMEHG8w"
      },
      "execution_count": null,
      "outputs": []
    },
    {
      "cell_type": "code",
      "source": [
        "df = pd.read_excel(r\"/content/drive/MyDrive/dataset/GB1.xlsx\")\n",
        "df"
      ],
      "metadata": {
        "id": "NePsFWOL0ozD"
      },
      "execution_count": null,
      "outputs": []
    },
    {
      "cell_type": "code",
      "source": [
        "print(df.columns)"
      ],
      "metadata": {
        "id": "U1d5lZCD02Z6"
      },
      "execution_count": null,
      "outputs": []
    },
    {
      "cell_type": "code",
      "source": [
        "df.info()"
      ],
      "metadata": {
        "id": "ZPAHZXtd04nk"
      },
      "execution_count": null,
      "outputs": []
    },
    {
      "cell_type": "code",
      "source": [
        "df.isnull()"
      ],
      "metadata": {
        "id": "J3spR_0L07Y1"
      },
      "execution_count": null,
      "outputs": []
    },
    {
      "cell_type": "code",
      "source": [
        "df.isnull().sum()"
      ],
      "metadata": {
        "id": "LbFc8rpk09xy"
      },
      "execution_count": null,
      "outputs": []
    },
    {
      "cell_type": "code",
      "source": [
        "df.isnull().sum().sum()"
      ],
      "metadata": {
        "id": "SIBSWCfp1AxS"
      },
      "execution_count": null,
      "outputs": []
    },
    {
      "cell_type": "code",
      "source": [
        "df2 = df.fillna(value = 0) \n",
        "df2"
      ],
      "metadata": {
        "id": "ohmgQ0Ug1DgP"
      },
      "execution_count": null,
      "outputs": []
    },
    {
      "cell_type": "code",
      "source": [
        "df2.isnull().sum().sum()"
      ],
      "metadata": {
        "id": "SDj7EZGd1F2N"
      },
      "execution_count": null,
      "outputs": []
    },
    {
      "cell_type": "code",
      "source": [
        "df2.info()"
      ],
      "metadata": {
        "id": "0Y1Vrckg1H_k"
      },
      "execution_count": null,
      "outputs": []
    },
    {
      "cell_type": "code",
      "source": [
        "df2.describe()"
      ],
      "metadata": {
        "id": "Ad5uskvk1KtU"
      },
      "execution_count": null,
      "outputs": []
    },
    {
      "cell_type": "code",
      "source": [
        "df2.head()"
      ],
      "metadata": {
        "id": "TgLYGtTC1NMb"
      },
      "execution_count": null,
      "outputs": []
    },
    {
      "cell_type": "code",
      "source": [
        "df2.describe()"
      ],
      "metadata": {
        "id": "fFQxTVY41Phu"
      },
      "execution_count": null,
      "outputs": []
    },
    {
      "cell_type": "code",
      "source": [
        "X = df2.drop(['pIC50'],axis = 1)\n",
        "X"
      ],
      "metadata": {
        "id": "9efPo9TN1R97"
      },
      "execution_count": null,
      "outputs": []
    },
    {
      "cell_type": "code",
      "source": [
        "Y = df2.pIC50\n",
        "Y"
      ],
      "metadata": {
        "id": "dp5gIUrQ1UTZ"
      },
      "execution_count": null,
      "outputs": []
    },
    {
      "cell_type": "code",
      "source": [
        "X.shape"
      ],
      "metadata": {
        "id": "n10ta8te1Wfi"
      },
      "execution_count": null,
      "outputs": []
    },
    {
      "cell_type": "code",
      "source": [
        "Y.shape"
      ],
      "metadata": {
        "id": "2e3LPtfm1Yf5"
      },
      "execution_count": null,
      "outputs": []
    },
    {
      "cell_type": "code",
      "source": [
        "corr = df2.corr()"
      ],
      "metadata": {
        "id": "x7FZtBvw1abV"
      },
      "execution_count": null,
      "outputs": []
    },
    {
      "cell_type": "code",
      "source": [
        "corr"
      ],
      "metadata": {
        "id": "6FN_2-2-1cc0"
      },
      "execution_count": null,
      "outputs": []
    },
    {
      "cell_type": "code",
      "source": [
        "corr.style.background_gradient(cmap='coolwarm')"
      ],
      "metadata": {
        "id": "PeDFrw5P1fk-"
      },
      "execution_count": null,
      "outputs": []
    },
    {
      "cell_type": "code",
      "source": [
        "X_train, X_test, Y_train, Y_test = train_test_split(X, Y, test_size=.20, random_state=seed)"
      ],
      "metadata": {
        "id": "XzqZ4Ucr1kED"
      },
      "execution_count": null,
      "outputs": []
    },
    {
      "cell_type": "code",
      "source": [
        "print(X_train.shape,X_test.shape, Y_train.shape, Y_test.shape)"
      ],
      "metadata": {
        "id": "j-FDBYGY15SX"
      },
      "execution_count": null,
      "outputs": []
    },
    {
      "cell_type": "code",
      "source": [
        "X_train"
      ],
      "metadata": {
        "id": "4gWzfbVF17ch"
      },
      "execution_count": null,
      "outputs": []
    },
    {
      "cell_type": "code",
      "source": [
        "Y_train"
      ],
      "metadata": {
        "id": "vYDrp0v1192T"
      },
      "execution_count": null,
      "outputs": []
    },
    {
      "cell_type": "code",
      "source": [
        "X_test"
      ],
      "metadata": {
        "id": "qEOn49dx2AOY"
      },
      "execution_count": null,
      "outputs": []
    },
    {
      "cell_type": "code",
      "source": [
        "Y_test"
      ],
      "metadata": {
        "id": "FLwhYVSe2C23"
      },
      "execution_count": null,
      "outputs": []
    },
    {
      "cell_type": "code",
      "source": [
        "df2.hist(bins = 50, figsize=(20,15))\n",
        "plt.show()"
      ],
      "metadata": {
        "id": "sM5mjrXu2FO8"
      },
      "execution_count": null,
      "outputs": []
    },
    {
      "cell_type": "code",
      "source": [
        "model = DecisionTreeRegressor(random_state=seed)"
      ],
      "metadata": {
        "id": "Ek7_i8WV2OA5"
      },
      "execution_count": null,
      "outputs": []
    },
    {
      "cell_type": "code",
      "source": [
        "model.fit(X_train, Y_train)"
      ],
      "metadata": {
        "id": "tK600Cmv2QU3"
      },
      "execution_count": null,
      "outputs": []
    },
    {
      "cell_type": "code",
      "source": [
        "Y_train_pred = model.predict(X_train)"
      ],
      "metadata": {
        "id": "hIzwvvP02Sa9"
      },
      "execution_count": null,
      "outputs": []
    },
    {
      "cell_type": "code",
      "source": [
        "print(Y_train_pred)"
      ],
      "metadata": {
        "id": "iWGxh0vu2Uro"
      },
      "execution_count": null,
      "outputs": []
    },
    {
      "cell_type": "code",
      "source": [
        "predictions1 = pd.DataFrame({'Y_train' : Y_train, 'Y_train_pred' : Y_train_pred})"
      ],
      "metadata": {
        "id": "n7qCeWC12m3m"
      },
      "execution_count": null,
      "outputs": []
    },
    {
      "cell_type": "code",
      "source": [
        "predictions1"
      ],
      "metadata": {
        "id": "ezr21B1p2iGZ"
      },
      "execution_count": null,
      "outputs": []
    },
    {
      "cell_type": "code",
      "source": [
        "len(Y_train_pred)"
      ],
      "metadata": {
        "id": "A13F9pMP2r0I"
      },
      "execution_count": null,
      "outputs": []
    },
    {
      "cell_type": "code",
      "source": [
        "print('The training r_sq is: %.4f'% model.score(X_train, Y_train))"
      ],
      "metadata": {
        "id": "i0SxQDG42ukK"
      },
      "execution_count": null,
      "outputs": []
    },
    {
      "cell_type": "code",
      "source": [
        "print('The MAE is: %.4f'% mean_absolute_error(Y_train, Y_train_pred))"
      ],
      "metadata": {
        "id": "uKSEKGvb2x0W"
      },
      "execution_count": null,
      "outputs": []
    },
    {
      "cell_type": "code",
      "source": [
        "print('The RMSE is: %.4f'% np.sqrt(mean_squared_error(Y_train, Y_train_pred)))"
      ],
      "metadata": {
        "id": "_TOvlQxw21Gm"
      },
      "execution_count": null,
      "outputs": []
    },
    {
      "cell_type": "code",
      "source": [
        "print('The EVS is: %.4f'% explained_variance_score(Y_train, Y_train_pred))"
      ],
      "metadata": {
        "id": "0_zOJoMH286E"
      },
      "execution_count": null,
      "outputs": []
    },
    {
      "cell_type": "code",
      "source": [
        "plt.rcParams['figure.figsize'] = 10,6\n",
        "x_ax = range(len(X_train))\n",
        "plt.plot(x_ax, Y_train, label = 'Observed', color = 'k', linestyle = '-')\n",
        "plt.plot(x_ax, Y_train_pred, label = 'Predicted', color = 'k', linestyle = '--')\n",
        "plt.ylabel('pIC50')\n",
        "plt.xlabel('Experimental Run')\n",
        "plt.legend(bbox_to_anchor = (0.5, -0.2), loc = 'lower center', ncol = 2, frameon = False)"
      ],
      "metadata": {
        "id": "f8g7owQN3oER"
      },
      "execution_count": null,
      "outputs": []
    },
    {
      "cell_type": "code",
      "source": [
        "Y_test_pred = model.predict(X_test)"
      ],
      "metadata": {
        "id": "U7bOWbMi3rDZ"
      },
      "execution_count": null,
      "outputs": []
    },
    {
      "cell_type": "code",
      "source": [
        "Y_test_pred"
      ],
      "metadata": {
        "id": "T8feU65K3tMG"
      },
      "execution_count": null,
      "outputs": []
    },
    {
      "cell_type": "code",
      "source": [
        "len(Y_test_pred)"
      ],
      "metadata": {
        "id": "KE0e38Hc3vuu"
      },
      "execution_count": null,
      "outputs": []
    },
    {
      "cell_type": "code",
      "source": [
        "predictions2 = pd.DataFrame({'Y_test' : Y_test, 'Y_test_pred' : Y_test_pred})"
      ],
      "metadata": {
        "id": "AdWK48pd3y-L"
      },
      "execution_count": null,
      "outputs": []
    },
    {
      "cell_type": "code",
      "source": [
        "predictions2"
      ],
      "metadata": {
        "id": "_EYt8iNQ31GK"
      },
      "execution_count": null,
      "outputs": []
    },
    {
      "cell_type": "code",
      "source": [
        "print('The testing r_sq is: %.4f'% r2_score(Y_test, Y_test_pred))"
      ],
      "metadata": {
        "id": "AyNB0Uzz39CU"
      },
      "execution_count": null,
      "outputs": []
    },
    {
      "cell_type": "code",
      "source": [
        "print('The testing r_sq is: %.4f'% model.score(X_test, Y_test))"
      ],
      "metadata": {
        "id": "GkyE7t4a4EZR"
      },
      "execution_count": null,
      "outputs": []
    },
    {
      "cell_type": "code",
      "source": [
        "print('The MAE is: %.4f'% mean_absolute_error(Y_test, Y_test_pred))"
      ],
      "metadata": {
        "id": "Kml7mFAh4G1A"
      },
      "execution_count": null,
      "outputs": []
    },
    {
      "cell_type": "code",
      "source": [
        "print('The RMSE is: %.4f'% np.sqrt(mean_squared_error(Y_test, Y_test_pred)))"
      ],
      "metadata": {
        "id": "pw4K-2224KKB"
      },
      "execution_count": null,
      "outputs": []
    },
    {
      "cell_type": "code",
      "source": [
        "print('The EVS is: %.4f'% explained_variance_score(Y_test, Y_test_pred))"
      ],
      "metadata": {
        "id": "0g5QwNfi4MJy"
      },
      "execution_count": null,
      "outputs": []
    },
    {
      "cell_type": "code",
      "source": [
        "plt.rcParams['figure.figsize'] = 10,6\n",
        "x_ax = range(len(X_test))\n",
        "plt.plot(x_ax, Y_test, label = 'Observed', color = 'k', linestyle = '-')\n",
        "plt.plot(x_ax, Y_test_pred, label = 'Predicted', color = 'k', linestyle = '--')\n",
        "plt.ylabel('pIC50')\n",
        "plt.xlabel('Experimental Run')\n",
        "plt.legend(bbox_to_anchor = (0.5, -0.2), loc = 'lower center', ncol = 2, frameon = False)"
      ],
      "metadata": {
        "id": "sWR4eHgq4TTe"
      },
      "execution_count": null,
      "outputs": []
    },
    {
      "cell_type": "code",
      "source": [
        "from yellowbrick.regressor import PredictionError\n",
        "visualizer = PredictionError(model)\n",
        "visualizer.fit(X_train, Y_train)\n",
        "visualizer.score(X_test, Y_test)\n",
        "visualizer.poof()"
      ],
      "metadata": {
        "id": "lvrN-t0R4Vhq"
      },
      "execution_count": null,
      "outputs": []
    },
    {
      "cell_type": "code",
      "source": [
        "from yellowbrick.regressor import ResidualsPlot\n",
        "visualizer = ResidualsPlot(model)\n",
        "visualizer.fit(X_train, Y_train)\n",
        "visualizer.score(X_test, Y_test)\n",
        "visualizer.poof()"
      ],
      "metadata": {
        "id": "eTZwfpe-4Xpk"
      },
      "execution_count": null,
      "outputs": []
    },
    {
      "cell_type": "code",
      "source": [
        "sns.scatterplot(x=Y_test, y=Y_test_pred, alpha=0.6)\n",
        "sns.lineplot(x=Y_test, y=Y_test)\n",
        "plt.xlabel('Actual count', fontsize = 14)\n",
        "plt.ylabel('Predicted count', fontsize = 14)\n",
        "plt.title('Actual vs Prdicted', fontsize = 17)\n",
        "plt.show()"
      ],
      "metadata": {
        "id": "l1tHjKS74Z37"
      },
      "execution_count": null,
      "outputs": []
    },
    {
      "cell_type": "code",
      "source": [
        "model.score(X_test, Y_test)"
      ],
      "metadata": {
        "id": "G7OefKvB4btJ"
      },
      "execution_count": null,
      "outputs": []
    },
    {
      "cell_type": "code",
      "source": [
        "MSE_test = round(np.mean(np.square(Y_test - Y_test_pred)),2)\n",
        "RMSE_test = round(np.sqrt(MSE_test),2)\n",
        "RMSE_test"
      ],
      "metadata": {
        "id": "dAEz_4aM4eXE"
      },
      "execution_count": null,
      "outputs": []
    },
    {
      "cell_type": "code",
      "source": [
        "my_param_grid = {'max_depth':[7,8,9], 'min_samples_split':[7,8,9], 'min_samples_leaf': [7,8,9]} "
      ],
      "metadata": {
        "id": "XckKRs5M6mBQ"
      },
      "execution_count": null,
      "outputs": []
    },
    {
      "cell_type": "code",
      "source": [
        "from sklearn.model_selection import GridSearchCV"
      ],
      "metadata": {
        "id": "VH1jtkGs6ood"
      },
      "execution_count": null,
      "outputs": []
    },
    {
      "cell_type": "code",
      "source": [
        "GridSearchCV(estimator=DecisionTreeRegressor(random_state=seed), param_grid = my_param_grid, refit = True, verbose = 3, cv=5)"
      ],
      "metadata": {
        "id": "97cU-R7C6rXc"
      },
      "execution_count": null,
      "outputs": []
    },
    {
      "cell_type": "code",
      "source": [
        "grid = GridSearchCV(estimator=DecisionTreeRegressor(random_state=seed), param_grid = my_param_grid, refit = True, verbose = 3, cv=5)"
      ],
      "metadata": {
        "id": "AdluCDs56uE3"
      },
      "execution_count": null,
      "outputs": []
    },
    {
      "cell_type": "code",
      "source": [
        "grid.fit(X_train, Y_train)"
      ],
      "metadata": {
        "id": "-oFDUbHG6wpD"
      },
      "execution_count": null,
      "outputs": []
    },
    {
      "cell_type": "code",
      "source": [
        "grid.best_params_"
      ],
      "metadata": {
        "id": "KgGftEhc6zPU"
      },
      "execution_count": null,
      "outputs": []
    },
    {
      "cell_type": "code",
      "source": [
        "Y_test_optimised = grid.predict(X_test)"
      ],
      "metadata": {
        "id": "-Pwwmyeh6_Jh"
      },
      "execution_count": null,
      "outputs": []
    },
    {
      "cell_type": "code",
      "source": [
        "Y_test_optimised"
      ],
      "metadata": {
        "id": "jOpwqkAV7A-X"
      },
      "execution_count": null,
      "outputs": []
    },
    {
      "cell_type": "code",
      "source": [
        "predictions2['Y_test_optimised'] = Y_test_optimised\n",
        "predictions2.head()"
      ],
      "metadata": {
        "id": "K_0lLtK17C70"
      },
      "execution_count": null,
      "outputs": []
    },
    {
      "cell_type": "code",
      "source": [
        "sns.scatterplot(x=Y_test, y=Y_test_optimised, alpha=0.6)\n",
        "sns.lineplot(x=Y_test, y=Y_test)\n",
        "plt.xlabel('Actual count', fontsize = 14)\n",
        "plt.ylabel('Predicted count', fontsize = 14)\n",
        "plt.title('Actual vs Optimised Predicted', fontsize = 17)\n",
        "plt.show()"
      ],
      "metadata": {
        "id": "ZJE_T2pS7FHx"
      },
      "execution_count": null,
      "outputs": []
    },
    {
      "cell_type": "code",
      "source": [
        "grid.score(X_test, Y_test)"
      ],
      "metadata": {
        "id": "ZDUVlv-n7HRK"
      },
      "execution_count": null,
      "outputs": []
    },
    {
      "cell_type": "code",
      "source": [
        "MSE_test = round(np.mean(np.square(Y_test - Y_test_optimised)),2)\n",
        "RMSE_test = round(np.sqrt(MSE_test),2)\n",
        "RMSE_test"
      ],
      "metadata": {
        "id": "8-ajjpc97KMa"
      },
      "execution_count": null,
      "outputs": []
    },
    {
      "cell_type": "code",
      "source": [
        "print('The testing r_sq is: %.4f'% model.score(X_test, Y_test_optimised))"
      ],
      "metadata": {
        "id": "abS3yBFy7McO"
      },
      "execution_count": null,
      "outputs": []
    },
    {
      "cell_type": "code",
      "source": [
        "print('The MAE is: %.4f'% mean_absolute_error(Y_test, Y_test_optimised))"
      ],
      "metadata": {
        "id": "JI24eD9b7OWK"
      },
      "execution_count": null,
      "outputs": []
    },
    {
      "cell_type": "code",
      "source": [
        "print('The RMSE is: %.4f'% np.sqrt(mean_squared_error(Y_test, Y_test_optimised)))"
      ],
      "metadata": {
        "id": "Tg27LXlG7QIc"
      },
      "execution_count": null,
      "outputs": []
    },
    {
      "cell_type": "code",
      "source": [
        "print('The EVS is: %.4f'% explained_variance_score(Y_test, Y_test_optimised))"
      ],
      "metadata": {
        "id": "nxQAYWu27Rr2"
      },
      "execution_count": null,
      "outputs": []
    },
    {
      "cell_type": "code",
      "source": [
        "plt.rcParams['figure.figsize'] = 10,6\n",
        "x_ax = range(len(X_test))\n",
        "plt.plot(x_ax, Y_test, label = 'Observed', color = 'k', linestyle = '-')\n",
        "plt.plot(x_ax, Y_test_optimised, label = 'Optimised Predicted', color = 'k', linestyle = '--')\n",
        "plt.ylabel('pIC50')\n",
        "plt.xlabel('Experimental Run')\n",
        "plt.legend(bbox_to_anchor = (0.5, -0.2), loc = 'lower center', ncol = 2, frameon = False)"
      ],
      "metadata": {
        "id": "1xHln09Q7T-6"
      },
      "execution_count": null,
      "outputs": []
    },
    {
      "cell_type": "code",
      "source": [
        "Y_train_optimised = grid.predict(X_train)"
      ],
      "metadata": {
        "id": "t7sD0fD97s3B"
      },
      "execution_count": null,
      "outputs": []
    },
    {
      "cell_type": "code",
      "source": [
        "Y_train_optimised"
      ],
      "metadata": {
        "id": "-WrQkI6j7u1P"
      },
      "execution_count": null,
      "outputs": []
    },
    {
      "cell_type": "code",
      "source": [
        "predictions1['Y_train_optimised'] = Y_train_optimised\n",
        "predictions1.head()"
      ],
      "metadata": {
        "id": "h1FU62rc7wlj"
      },
      "execution_count": null,
      "outputs": []
    },
    {
      "cell_type": "code",
      "source": [
        "sns.scatterplot(x=Y_train, y=Y_train_optimised, alpha=0.6)\n",
        "sns.lineplot(x=Y_train, y=Y_train)\n",
        "plt.xlabel('Actual count', fontsize = 14)\n",
        "plt.ylabel('Predicted count', fontsize = 14)\n",
        "plt.title('Actual vs Optimised Predicted', fontsize = 17)\n",
        "plt.show()"
      ],
      "metadata": {
        "id": "78ODwRzH7zx-"
      },
      "execution_count": null,
      "outputs": []
    },
    {
      "cell_type": "code",
      "source": [
        "print('The training r_sq is: %.4f'% model.score(X_train, Y_train_optimised))"
      ],
      "metadata": {
        "id": "8XXIBvPA721M"
      },
      "execution_count": null,
      "outputs": []
    },
    {
      "cell_type": "code",
      "source": [
        "print('The MAE is: %.4f'% mean_absolute_error(Y_train, Y_train_optimised))"
      ],
      "metadata": {
        "id": "w7zUhWfJ74wD"
      },
      "execution_count": null,
      "outputs": []
    },
    {
      "cell_type": "code",
      "source": [
        "print('The RMSE is: %.4f'% np.sqrt(mean_squared_error(Y_train, Y_train_optimised)))"
      ],
      "metadata": {
        "id": "KoG_3uPW769d"
      },
      "execution_count": null,
      "outputs": []
    },
    {
      "cell_type": "code",
      "source": [
        "print('The EVS is: %.4f'% explained_variance_score(Y_train, Y_train_optimised))"
      ],
      "metadata": {
        "id": "7OrWqthF79L3"
      },
      "execution_count": null,
      "outputs": []
    },
    {
      "cell_type": "code",
      "source": [
        "plt.rcParams['figure.figsize'] = 10,6\n",
        "x_ax = range(len(X_train))\n",
        "plt.plot(x_ax, Y_train, label = 'Observed', color = 'k', linestyle = '-')\n",
        "plt.plot(x_ax, Y_train_optimised, label = 'Optimised Predicted', color = 'k', linestyle = '--')\n",
        "plt.ylabel('pIC50')\n",
        "plt.xlabel('Experimental Run')\n",
        "plt.legend(bbox_to_anchor = (0.5, -0.2), loc = 'lower center', ncol = 2, frameon = False)"
      ],
      "metadata": {
        "id": "I1Hze2Z-8J9E"
      },
      "execution_count": null,
      "outputs": []
    },
    {
      "cell_type": "code",
      "source": [
        "from yellowbrick.regressor import ResidualsPlot\n",
        "visualizer = ResidualsPlot(model)\n",
        "visualizer.fit(X_train, Y_train_optimised)\n",
        "visualizer.score(X_test, Y_test_optimised)\n",
        "visualizer.poof()"
      ],
      "metadata": {
        "id": "RJ858W7nH84n"
      },
      "execution_count": null,
      "outputs": []
    },
    {
      "cell_type": "code",
      "source": [
        "features = list(X_train.columns)"
      ],
      "metadata": {
        "id": "i1C1q7du8Ndo"
      },
      "execution_count": null,
      "outputs": []
    },
    {
      "cell_type": "code",
      "source": [
        "features"
      ],
      "metadata": {
        "id": "vP7wPCPB8Pe9"
      },
      "execution_count": null,
      "outputs": []
    },
    {
      "cell_type": "code",
      "source": [
        "RFR = DecisionTreeRegressor(random_state=seed, max_depth = 8, min_samples_leaf= 7, min_samples_split= 7)"
      ],
      "metadata": {
        "id": "7Zz_xGmT8TZD"
      },
      "execution_count": null,
      "outputs": []
    },
    {
      "cell_type": "code",
      "source": [
        "RFR.fit(X_train, Y_train)"
      ],
      "metadata": {
        "id": "SqtsnC-M8V4D"
      },
      "execution_count": null,
      "outputs": []
    },
    {
      "cell_type": "code",
      "source": [
        "importance = RFR.feature_importances_\n",
        "importance"
      ],
      "metadata": {
        "id": "86Va_Gnw8YiE"
      },
      "execution_count": null,
      "outputs": []
    },
    {
      "cell_type": "code",
      "source": [
        "FIM = pd.DataFrame({'features' : features, 'feature_importances' : importance})\n",
        "FIM"
      ],
      "metadata": {
        "id": "jigWszpp8b0B"
      },
      "execution_count": null,
      "outputs": []
    },
    {
      "cell_type": "code",
      "source": [
        "fig = plt.figure(dpi=800)\n",
        "plt.figure(figsize=(10,20))\n",
        "plt.title('feature importances')\n",
        "sns.barplot(y='features', x='feature_importances', data=FIM)\n",
        "plt.show()"
      ],
      "metadata": {
        "id": "wNaYr0GA8fDQ"
      },
      "execution_count": null,
      "outputs": []
    },
    {
      "cell_type": "code",
      "source": [
        "!pip install shap"
      ],
      "metadata": {
        "id": "v_oRJTxF8iDj"
      },
      "execution_count": null,
      "outputs": []
    },
    {
      "cell_type": "code",
      "source": [
        "import shap\n",
        "X = df2.drop(['pIC50'],axis = 1)\n",
        "explainer = shap.TreeExplainer(model,feature_perturbation=\"tree_path_dependent\")\n",
        "shap_values = explainer.shap_values(X)"
      ],
      "metadata": {
        "id": "08BZoMzD8j-M"
      },
      "execution_count": null,
      "outputs": []
    },
    {
      "cell_type": "code",
      "source": [
        "plt.figure(dpi=300)\n",
        "shap.summary_plot(shap_values, X,show=False,color_bar=False)\n",
        "plt.xlabel(\"SHAP value of pIC50 model\" ,fontweight='bold',fontsize=6)\n",
        "plt.tick_params(labelsize=6,)\n",
        "plt.show()"
      ],
      "metadata": {
        "id": "dnpQHFVS8nQr"
      },
      "execution_count": null,
      "outputs": []
    }
  ]
}